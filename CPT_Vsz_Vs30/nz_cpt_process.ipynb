{
 "cells": [
  {
   "cell_type": "code",
   "execution_count": 18,
   "id": "focal-racing",
   "metadata": {},
   "outputs": [],
   "source": [
    "SHARED=\"/data/sharing/QuakeCoRE\"\n",
    "\n",
    "import sys\n",
    "\n",
    "sys.path.append(f\"{SHARED}/Ancillary_tools/CPT_Vsz_Vs30\")\n",
    "sys.path.append(f\"{SHARED}/Ancillary_tools\")\n",
    "sys.path.append(f\"{SHARED}/qcore\")\n",
    "\n",
    "from collections import Counter\n",
    "from time import strftime,localtime\n",
    "import os\n",
    "import os.path\n",
    "from pathlib import Path\n",
    "import yaml\n",
    "\n",
    "\n",
    "from matplotlib import pyplot as plt\n",
    "import numpy as np\n",
    "import pandas as pd\n",
    "\n",
    "\n",
    "from sqlalchemy import Column, ForeignKey, Integer, String, Float\n",
    "from sqlalchemy.ext.declarative import declarative_base\n",
    "from sqlalchemy.orm import relationship\n",
    "from sqlalchemy import create_engine, desc\n",
    "from sqlalchemy.orm import sessionmaker\n",
    "\n",
    "\n",
    "from getCPTdata import getCPTdata\n",
    "from computeVs import Vs_McGann\n",
    "from computeVsz import compute_vsz_from_vs\n",
    "from computeVs30 import vsz_to_vs30\n",
    "from loc_filter import locs_multiple_records\n",
    "from qcore import geo\n",
    "\n",
    "\n",
    "HOME = Path(os.path.expanduser(\"~\"))\n",
    "out_dir = HOME / \"Data/cpt/outdir\"\n",
    "plot_dir = out_dir / \"validation_plots\"\n",
    "\n",
    "plot_dir.mkdir(parents=True, exist_ok=True)\n",
    "\n",
    "\n",
    "\n",
    "results = {}\n",
    "\n",
    "\n",
    "\n",
    "engine = create_engine(f'sqlite:///{SHARED}/Data/nz_cpt.db')\n",
    "DBSession = sessionmaker(bind=engine)\n",
    "session = DBSession()\n",
    "                \n",
    "\n",
    "\n",
    "def log_error(skipped_fp, cpt_name, error):\n",
    "    skipped_fp.write(f\"{cpt_name} - {error}\\n\")\n",
    "\n",
    "\n",
    "def count_digits(arr):\n",
    "    stringified = str(arr).replace(\"0\", \"\").replace(\".\", \"\")\n",
    "    return Counter(stringified)\n",
    "\n",
    "\n",
    "Base = declarative_base()\n",
    "\n",
    "class CPTLocation(Base):\n",
    "    __tablename__ = 'cpt_location'\n",
    "    id = Column(Integer, primary_key=True)\n",
    "    #    customer_id=Column(Integer, ForeignKey('customers.id'))\n",
    "    name = Column(String(20), nullable=False)  # 20210427_17\n",
    "    private = Column(Integer) #true / false\n",
    "    type = Column(String(5)) # CPT or SCPT\n",
    "    nztm_x = Column(Float)\n",
    "    nztm_y = Column(Float)\n",
    "\n",
    "    def __iter__(self): #overridding this to return tuples of (key,value)\n",
    "        return iter([('id',self.id),('name',self.name),('nztm_x',self.nztm_x),('nztm_y',self.nztm_y)])\n",
    "\n",
    "\n",
    "class CPTDepthRecord(Base):\n",
    "    __tablename__ = 'cpt_depth_record'\n",
    "    id = Column(Integer, primary_key=True)\n",
    "    cpt_name = Column(String(20), nullable=False)  # \n",
    "    depth = Column(Float) #\n",
    "    qc = Column(Float) #\n",
    "    fs = Column(Float)\n",
    "    u = Column(Float)\n",
    "    loc_id = Column(Integer, ForeignKey('cpt_location.id'))\n",
    "    \n",
    "    def __iter__(self): #overridding this to return tuples of (key,value)\n",
    "        return iter([('id',self.id),('depth',self.depth),('qc',self.qc),('fs',self.fs),('u',self.u),('loc_id',self.loc_id)])\n",
    "\n",
    "\n",
    "# not really useful, but presented as an example\n",
    "def cpt_records(cpt_name):\n",
    "    res=session.query(CPTDepthRecord).filter(CPTDepthRecord.cpt_name == cpt_name).all()\n",
    "    return res\n",
    "\n",
    "# not really useful, but presented as an example\n",
    "def max_depth_record(cpt_name):\n",
    "    res=session.query(CPTDepthRecord).filter(CPTDepthRecord.cpt_name == cpt_name).order_by(CPTDepthRecord.depth.desc()).first()\n",
    "    return res\n",
    "\n",
    "# the following 3 functions are actually used\n",
    "def cpt_locations():\n",
    "    return session.query(CPTLocation).all()\n",
    "\n",
    "def cpt_records_exists(cpt_name):\n",
    "    res=session.query(CPTDepthRecord).filter(CPTDepthRecord.cpt_name == cpt_name).first()\n",
    "    return (res is not None)\n",
    "\n",
    "def get_cpt_data(cpt_name, columnwise=True):\n",
    "    res=session.query(CPTDepthRecord.depth,CPTDepthRecord.qc,CPTDepthRecord.fs,CPTDepthRecord.u).filter(CPTDepthRecord.cpt_name == cpt_name).all()\n",
    "    res_array =np.array(res)\n",
    "    if columnwise: #each column is grouped together\n",
    "        res_array = res_array.T\n",
    "    return res_array\n",
    "    \n"
   ]
  },
  {
   "cell_type": "markdown",
   "id": "satellite-cable",
   "metadata": {},
   "source": [
    "# Usage Examples"
   ]
  },
  {
   "cell_type": "markdown",
   "id": "manufactured-politics",
   "metadata": {},
   "source": [
    "Check if any record found for a CPT name"
   ]
  },
  {
   "cell_type": "code",
   "execution_count": 19,
   "id": "interesting-seafood",
   "metadata": {},
   "outputs": [
    {
     "name": "stdout",
     "output_type": "stream",
     "text": [
      "False\n",
      "True\n"
     ]
    }
   ],
   "source": [
    "print(cpt_records_exists(\"CPT_108566\"))\n",
    "print(cpt_records_exists(\"SCPT_140251\"))\n"
   ]
  },
  {
   "cell_type": "code",
   "execution_count": 20,
   "id": "based-hypothesis",
   "metadata": {},
   "outputs": [
    {
     "data": {
      "text/plain": [
       "array([], dtype=float64)"
      ]
     },
     "execution_count": 20,
     "metadata": {},
     "output_type": "execute_result"
    }
   ],
   "source": [
    "get_cpt_data(\"CPT_108566\")\n"
   ]
  },
  {
   "cell_type": "markdown",
   "id": "chief-bernard",
   "metadata": {},
   "source": [
    "Retrieve CPT records for a given CPT"
   ]
  },
  {
   "cell_type": "code",
   "execution_count": 21,
   "id": "associate-multimedia",
   "metadata": {},
   "outputs": [
    {
     "name": "stdout",
     "output_type": "stream",
     "text": [
      "CPU times: user 7.98 ms, sys: 8.01 ms, total: 16 ms\n",
      "Wall time: 15.7 ms\n"
     ]
    }
   ],
   "source": [
    "%%time\n",
    "res=cpt_records('SCPT_140251')\n",
    "#print(res)\n",
    "#print(res[0].depth)"
   ]
  },
  {
   "cell_type": "markdown",
   "id": "dimensional-cigarette",
   "metadata": {},
   "source": [
    "However, the following function is preferred"
   ]
  },
  {
   "cell_type": "code",
   "execution_count": 22,
   "id": "closing-native",
   "metadata": {},
   "outputs": [],
   "source": [
    "depth, qc, fs, u = get_cpt_data(\"SCPT_140251\")"
   ]
  },
  {
   "cell_type": "code",
   "execution_count": 23,
   "id": "219cd3de-560d-4b81-9dfe-54a7b06fc878",
   "metadata": {},
   "outputs": [
    {
     "name": "stdout",
     "output_type": "stream",
     "text": [
      "[ 0.03  0.05  0.07 ... 20.65 20.67 20.69]\n"
     ]
    }
   ],
   "source": [
    "print(depth)"
   ]
  },
  {
   "cell_type": "markdown",
   "id": "religious-filter",
   "metadata": {},
   "source": [
    "With `columnwise=False`, each CPT depth record is grouped together as below. `columnwise=True` by default"
   ]
  },
  {
   "cell_type": "code",
   "execution_count": 24,
   "id": "normal-latter",
   "metadata": {},
   "outputs": [
    {
     "name": "stdout",
     "output_type": "stream",
     "text": [
      "[ 0.03    0.0105  0.0002 -0.0004]\n"
     ]
    }
   ],
   "source": [
    "cpt_records = get_cpt_data(\"SCPT_140251\", columnwise=False)\n",
    "print(cpt_records[0])"
   ]
  },
  {
   "cell_type": "markdown",
   "id": "simple-anaheim",
   "metadata": {},
   "source": [
    "Retrieves all locations"
   ]
  },
  {
   "cell_type": "code",
   "execution_count": 25,
   "id": "simplified-notion",
   "metadata": {},
   "outputs": [
    {
     "name": "stdout",
     "output_type": "stream",
     "text": [
      "{'id': 1, 'name': 'CPT_1', 'nztm_x': 1576467.294706431, 'nztm_y': 5181262.382226084}\n",
      "CPU times: user 1.36 s, sys: 36 ms, total: 1.4 s\n",
      "Wall time: 1.4 s\n"
     ]
    }
   ],
   "source": [
    "%%time\n",
    "locs = cpt_locations()\n",
    "print(dict(locs[0]))\n"
   ]
  },
  {
   "cell_type": "markdown",
   "id": "medical-appendix",
   "metadata": {},
   "source": [
    "The record at the maximum depth can be retrived by this function. (In practice, this function may not be useful)"
   ]
  },
  {
   "cell_type": "code",
   "execution_count": 26,
   "id": "tropical-wilson",
   "metadata": {},
   "outputs": [
    {
     "name": "stdout",
     "output_type": "stream",
     "text": [
      "{'id': 1034, 'depth': 20.69, 'qc': 22.7256, 'fs': 1.0416, 'u': -0.0251, 'loc_id': 39741}\n",
      "CPU times: user 4.59 ms, sys: 11 µs, total: 4.6 ms\n",
      "Wall time: 3.51 ms\n"
     ]
    }
   ],
   "source": [
    "%%time\n",
    "print(dict(max_depth_record('SCPT_140251')))\n"
   ]
  },
  {
   "cell_type": "markdown",
   "id": "remarkable-citizen",
   "metadata": {},
   "source": [
    "# Find Duplicate Locations"
   ]
  },
  {
   "cell_type": "code",
   "execution_count": 27,
   "id": "turkish-sapphire",
   "metadata": {},
   "outputs": [],
   "source": [
    "#dup_locs_dict is a dictionary {loc0:[loc00,loc01],loc1:[loc10,loc11,loc12],loc2:[loc20]...} \n",
    "#meaning loc00,loc01 are within 0.1m distance from loc0. It may be too strict.\n",
    "\n",
    "#computing locs_multiple_records() takes about 5 mins, and I'm skipping here\n",
    "#if filtering criteria needs to be updated, revise locs_multiple_records() @ loc_filter.py and delete out_dir/dup_locs.yaml\n",
    "\n",
    "dup_locs_yaml_file = out_dir/\"dup_locs.yaml\"\n",
    "\n",
    "if dup_locs_yaml_file.exists():\n",
    "    with open(out_dir/\"dup_locs.yaml\", 'r') as f:\n",
    "        dup_locs_dict = yaml.load(f, Loader=yaml.SafeLoader)\n",
    "else:        \n",
    "    dup_locs_dict=locs_multiple_records(locs, stdout=True)\n",
    "    #let's save this in a yaml file for future use\n",
    "    with open(out_dir/\"dup_locs.yaml\",\"w\") as f:\n",
    "        yaml.safe_dump(dup_locs_dict,f)\n",
    "\n",
    "    \n",
    "#flattens dictionary into lists. [loc00,loc01,loc10,loc11,loc12,loc20...]\n",
    "import functools,operator\n",
    "dup_locs = functools.reduce(operator.iconcat, list(dup_locs_dict.values()), []) \n",
    "\n",
    "#note that loc0,loc1 are not in dup_locs. These locations are to be processed. Duplicates are to be skipped\n"
   ]
  },
  {
   "cell_type": "markdown",
   "id": "weird-elevation",
   "metadata": {},
   "source": [
    "# Main routine\n",
    "\n",
    "Loops through all `locs`, and for each location, it performs filtering process. When all the filtering criteria is met, it does conversion from CPT to Vs, Vsz and Vs30"
   ]
  },
  {
   "cell_type": "code",
   "execution_count": 29,
   "id": "reverse-tension",
   "metadata": {},
   "outputs": [
    {
     "name": "stdout",
     "output_type": "stream",
     "text": [
      "1/49321 - CPT_1\n",
      "1001/49321 - CPT_103928\n",
      "3001/49321 - CPT_11089\n"
     ]
    },
    {
     "ename": "KeyboardInterrupt",
     "evalue": "",
     "output_type": "error",
     "traceback": [
      "\u001b[0;31m---------------------------------------------------------------------------\u001b[0m",
      "\u001b[0;31mKeyboardInterrupt\u001b[0m                         Traceback (most recent call last)",
      "\u001b[0;32m<timed exec>\u001b[0m in \u001b[0;36m<module>\u001b[0;34m\u001b[0m\n",
      "\u001b[0;32m/tmp/ipykernel_5112/4123597871.py\u001b[0m in \u001b[0;36mget_cpt_data\u001b[0;34m(cpt_name, columnwise)\u001b[0m\n\u001b[1;32m    111\u001b[0m \u001b[0;34m\u001b[0m\u001b[0m\n\u001b[1;32m    112\u001b[0m \u001b[0;32mdef\u001b[0m \u001b[0mget_cpt_data\u001b[0m\u001b[0;34m(\u001b[0m\u001b[0mcpt_name\u001b[0m\u001b[0;34m,\u001b[0m \u001b[0mcolumnwise\u001b[0m\u001b[0;34m=\u001b[0m\u001b[0;32mTrue\u001b[0m\u001b[0;34m)\u001b[0m\u001b[0;34m:\u001b[0m\u001b[0;34m\u001b[0m\u001b[0;34m\u001b[0m\u001b[0m\n\u001b[0;32m--> 113\u001b[0;31m     \u001b[0mres\u001b[0m\u001b[0;34m=\u001b[0m\u001b[0msession\u001b[0m\u001b[0;34m.\u001b[0m\u001b[0mquery\u001b[0m\u001b[0;34m(\u001b[0m\u001b[0mCPTDepthRecord\u001b[0m\u001b[0;34m.\u001b[0m\u001b[0mdepth\u001b[0m\u001b[0;34m,\u001b[0m\u001b[0mCPTDepthRecord\u001b[0m\u001b[0;34m.\u001b[0m\u001b[0mqc\u001b[0m\u001b[0;34m,\u001b[0m\u001b[0mCPTDepthRecord\u001b[0m\u001b[0;34m.\u001b[0m\u001b[0mfs\u001b[0m\u001b[0;34m,\u001b[0m\u001b[0mCPTDepthRecord\u001b[0m\u001b[0;34m.\u001b[0m\u001b[0mu\u001b[0m\u001b[0;34m)\u001b[0m\u001b[0;34m.\u001b[0m\u001b[0mfilter\u001b[0m\u001b[0;34m(\u001b[0m\u001b[0mCPTDepthRecord\u001b[0m\u001b[0;34m.\u001b[0m\u001b[0mcpt_name\u001b[0m \u001b[0;34m==\u001b[0m \u001b[0mcpt_name\u001b[0m\u001b[0;34m)\u001b[0m\u001b[0;34m.\u001b[0m\u001b[0mall\u001b[0m\u001b[0;34m(\u001b[0m\u001b[0;34m)\u001b[0m\u001b[0;34m\u001b[0m\u001b[0;34m\u001b[0m\u001b[0m\n\u001b[0m\u001b[1;32m    114\u001b[0m     \u001b[0mres_array\u001b[0m \u001b[0;34m=\u001b[0m\u001b[0mnp\u001b[0m\u001b[0;34m.\u001b[0m\u001b[0marray\u001b[0m\u001b[0;34m(\u001b[0m\u001b[0mres\u001b[0m\u001b[0;34m)\u001b[0m\u001b[0;34m\u001b[0m\u001b[0;34m\u001b[0m\u001b[0m\n\u001b[1;32m    115\u001b[0m     \u001b[0;32mif\u001b[0m \u001b[0mcolumnwise\u001b[0m\u001b[0;34m:\u001b[0m \u001b[0;31m#each column is grouped together\u001b[0m\u001b[0;34m\u001b[0m\u001b[0;34m\u001b[0m\u001b[0m\n",
      "\u001b[0;32m/opt/miniconda/lib/python3.7/site-packages/sqlalchemy/orm/session.py\u001b[0m in \u001b[0;36mquery\u001b[0;34m(self, *entities, **kwargs)\u001b[0m\n\u001b[1;32m   2104\u001b[0m         \"\"\"\n\u001b[1;32m   2105\u001b[0m \u001b[0;34m\u001b[0m\u001b[0m\n\u001b[0;32m-> 2106\u001b[0;31m         \u001b[0;32mreturn\u001b[0m \u001b[0mself\u001b[0m\u001b[0;34m.\u001b[0m\u001b[0m_query_cls\u001b[0m\u001b[0;34m(\u001b[0m\u001b[0mentities\u001b[0m\u001b[0;34m,\u001b[0m \u001b[0mself\u001b[0m\u001b[0;34m,\u001b[0m \u001b[0;34m**\u001b[0m\u001b[0mkwargs\u001b[0m\u001b[0;34m)\u001b[0m\u001b[0;34m\u001b[0m\u001b[0;34m\u001b[0m\u001b[0m\n\u001b[0m\u001b[1;32m   2107\u001b[0m \u001b[0;34m\u001b[0m\u001b[0m\n\u001b[1;32m   2108\u001b[0m     def _identity_lookup(\n",
      "\u001b[0;32m/opt/miniconda/lib/python3.7/site-packages/sqlalchemy/orm/query.py\u001b[0m in \u001b[0;36m__init__\u001b[0;34m(self, entities, session)\u001b[0m\n\u001b[1;32m    178\u001b[0m \u001b[0;34m\u001b[0m\u001b[0m\n\u001b[1;32m    179\u001b[0m         \u001b[0mself\u001b[0m\u001b[0;34m.\u001b[0m\u001b[0msession\u001b[0m \u001b[0;34m=\u001b[0m \u001b[0msession\u001b[0m\u001b[0;34m\u001b[0m\u001b[0;34m\u001b[0m\u001b[0m\n\u001b[0;32m--> 180\u001b[0;31m         \u001b[0mself\u001b[0m\u001b[0;34m.\u001b[0m\u001b[0m_set_entities\u001b[0m\u001b[0;34m(\u001b[0m\u001b[0mentities\u001b[0m\u001b[0;34m)\u001b[0m\u001b[0;34m\u001b[0m\u001b[0;34m\u001b[0m\u001b[0m\n\u001b[0m\u001b[1;32m    181\u001b[0m \u001b[0;34m\u001b[0m\u001b[0m\n\u001b[1;32m    182\u001b[0m     \u001b[0;32mdef\u001b[0m \u001b[0m_set_propagate_attrs\u001b[0m\u001b[0;34m(\u001b[0m\u001b[0mself\u001b[0m\u001b[0;34m,\u001b[0m \u001b[0mvalues\u001b[0m\u001b[0;34m)\u001b[0m\u001b[0;34m:\u001b[0m\u001b[0;34m\u001b[0m\u001b[0;34m\u001b[0m\u001b[0m\n",
      "\u001b[0;32m/opt/miniconda/lib/python3.7/site-packages/sqlalchemy/orm/query.py\u001b[0m in \u001b[0;36m_set_entities\u001b[0;34m(self, entities)\u001b[0m\n\u001b[1;32m    192\u001b[0m                 \u001b[0mpost_inspect\u001b[0m\u001b[0;34m=\u001b[0m\u001b[0;32mTrue\u001b[0m\u001b[0;34m,\u001b[0m\u001b[0;34m\u001b[0m\u001b[0;34m\u001b[0m\u001b[0m\n\u001b[1;32m    193\u001b[0m             )\n\u001b[0;32m--> 194\u001b[0;31m             \u001b[0;32mfor\u001b[0m \u001b[0ment\u001b[0m \u001b[0;32min\u001b[0m \u001b[0mutil\u001b[0m\u001b[0;34m.\u001b[0m\u001b[0mto_list\u001b[0m\u001b[0;34m(\u001b[0m\u001b[0mentities\u001b[0m\u001b[0;34m)\u001b[0m\u001b[0;34m\u001b[0m\u001b[0;34m\u001b[0m\u001b[0m\n\u001b[0m\u001b[1;32m    195\u001b[0m         ]\n\u001b[1;32m    196\u001b[0m \u001b[0;34m\u001b[0m\u001b[0m\n",
      "\u001b[0;32m/opt/miniconda/lib/python3.7/site-packages/sqlalchemy/orm/query.py\u001b[0m in \u001b[0;36m<listcomp>\u001b[0;34m(.0)\u001b[0m\n\u001b[1;32m    192\u001b[0m                 \u001b[0mpost_inspect\u001b[0m\u001b[0;34m=\u001b[0m\u001b[0;32mTrue\u001b[0m\u001b[0;34m,\u001b[0m\u001b[0;34m\u001b[0m\u001b[0;34m\u001b[0m\u001b[0m\n\u001b[1;32m    193\u001b[0m             )\n\u001b[0;32m--> 194\u001b[0;31m             \u001b[0;32mfor\u001b[0m \u001b[0ment\u001b[0m \u001b[0;32min\u001b[0m \u001b[0mutil\u001b[0m\u001b[0;34m.\u001b[0m\u001b[0mto_list\u001b[0m\u001b[0;34m(\u001b[0m\u001b[0mentities\u001b[0m\u001b[0;34m)\u001b[0m\u001b[0;34m\u001b[0m\u001b[0;34m\u001b[0m\u001b[0m\n\u001b[0m\u001b[1;32m    195\u001b[0m         ]\n\u001b[1;32m    196\u001b[0m \u001b[0;34m\u001b[0m\u001b[0m\n",
      "\u001b[0;32m/opt/miniconda/lib/python3.7/site-packages/sqlalchemy/sql/coercions.py\u001b[0m in \u001b[0;36mexpect\u001b[0;34m(role, element, apply_propagate_attrs, argname, post_inspect, **kw)\u001b[0m\n\u001b[1;32m    165\u001b[0m                 \u001b[0mis_clause_element\u001b[0m \u001b[0;34m=\u001b[0m \u001b[0;32mTrue\u001b[0m\u001b[0;34m\u001b[0m\u001b[0;34m\u001b[0m\u001b[0m\n\u001b[1;32m    166\u001b[0m             \u001b[0;32melse\u001b[0m\u001b[0;34m:\u001b[0m\u001b[0;34m\u001b[0m\u001b[0;34m\u001b[0m\u001b[0m\n\u001b[0;32m--> 167\u001b[0;31m                 \u001b[0;32mwhile\u001b[0m \u001b[0mhasattr\u001b[0m\u001b[0;34m(\u001b[0m\u001b[0melement\u001b[0m\u001b[0;34m,\u001b[0m \u001b[0;34m\"__clause_element__\"\u001b[0m\u001b[0;34m)\u001b[0m\u001b[0;34m:\u001b[0m\u001b[0;34m\u001b[0m\u001b[0;34m\u001b[0m\u001b[0m\n\u001b[0m\u001b[1;32m    168\u001b[0m                     \u001b[0mis_clause_element\u001b[0m \u001b[0;34m=\u001b[0m \u001b[0;32mTrue\u001b[0m\u001b[0;34m\u001b[0m\u001b[0;34m\u001b[0m\u001b[0m\n\u001b[1;32m    169\u001b[0m \u001b[0;34m\u001b[0m\u001b[0m\n",
      "\u001b[0;32m/opt/miniconda/lib/python3.7/site-packages/sqlalchemy/sql/elements.py\u001b[0m in \u001b[0;36m__getattr__\u001b[0;34m(self, key)\u001b[0m\n\u001b[1;32m    846\u001b[0m             \u001b[0;32mreturn\u001b[0m \u001b[0mcomparator_factory\u001b[0m\u001b[0;34m(\u001b[0m\u001b[0mself\u001b[0m\u001b[0;34m)\u001b[0m\u001b[0;34m\u001b[0m\u001b[0;34m\u001b[0m\u001b[0m\n\u001b[1;32m    847\u001b[0m \u001b[0;34m\u001b[0m\u001b[0m\n\u001b[0;32m--> 848\u001b[0;31m     \u001b[0;32mdef\u001b[0m \u001b[0m__getattr__\u001b[0m\u001b[0;34m(\u001b[0m\u001b[0mself\u001b[0m\u001b[0;34m,\u001b[0m \u001b[0mkey\u001b[0m\u001b[0;34m)\u001b[0m\u001b[0;34m:\u001b[0m\u001b[0;34m\u001b[0m\u001b[0;34m\u001b[0m\u001b[0m\n\u001b[0m\u001b[1;32m    849\u001b[0m         \u001b[0;32mtry\u001b[0m\u001b[0;34m:\u001b[0m\u001b[0;34m\u001b[0m\u001b[0;34m\u001b[0m\u001b[0m\n\u001b[1;32m    850\u001b[0m             \u001b[0;32mreturn\u001b[0m \u001b[0mgetattr\u001b[0m\u001b[0;34m(\u001b[0m\u001b[0mself\u001b[0m\u001b[0;34m.\u001b[0m\u001b[0mcomparator\u001b[0m\u001b[0;34m,\u001b[0m \u001b[0mkey\u001b[0m\u001b[0;34m)\u001b[0m\u001b[0;34m\u001b[0m\u001b[0;34m\u001b[0m\u001b[0m\n",
      "\u001b[0;31mKeyboardInterrupt\u001b[0m: "
     ]
    }
   ],
   "source": [
    "%%time\n",
    "\n",
    "timestamp=strftime(\"%Y%m%d_%H%M\", localtime())\n",
    "\n",
    "skipped_fp = open(out_dir / f\"skipped_cpts_{timestamp}\", \"w\")\n",
    "output_file = out_dir / f\"vs30_results_{timestamp}.csv\"\n",
    "\n",
    "log_error(skipped_fp, \"<<<<<\", f\"Beginning loop : {timestamp}\")\n",
    "for row_n, loc in enumerate(locs):\n",
    "    \n",
    "    cpt_name = loc.name\n",
    "    if not cpt_records_exists(cpt_name):\n",
    "        log_error(skipped_fp, cpt_name, f\"Type 01 : No record found: {cpt_name}\")\n",
    "        continue\n",
    "    \n",
    "    if row_n % 1000 == 0: #print every 1000\n",
    "        print(f\"{row_n+1}/{len(locs)} - {cpt_name}\")\n",
    "    \n",
    "    z, qc, fs, u2 = get_cpt_data(cpt_name)\n",
    "     \n",
    "\n",
    "    # duplicate location\n",
    "    if cpt_name in dup_locs:\n",
    "        log_error(skipped_fp, cpt_name, f\"Type 02 :Duplicate location\")\n",
    "        continue\n",
    "\n",
    "    # duplicate depth check\n",
    "    u, c = np.unique(z, return_counts=True)\n",
    "    if np.any([c > 1]):\n",
    "        log_error(skipped_fp, cpt_name, f\"Type 03 : Duplicate depth detected - invalid CPT\")\n",
    "        continue\n",
    "\n",
    "    # Check for invalid negative readings\n",
    "    if any(fs < -0.2) or any(qc < -0.2) or any(u2 < -0.2):\n",
    "        log_error(skipped_fp, cpt_name, f\"Type 04 : negative value - discarding\")\n",
    "        continue\n",
    "\n",
    "    # Check for repeated digits\n",
    "    if any(value > 3 for fs_value in fs for value in count_digits(fs_value).values()):\n",
    "        log_error(skipped_fp, cpt_name, f\"Type 05 : Repeated digit - investigating\")\n",
    "        continue\n",
    "\n",
    "    max_depth = max(z)\n",
    "    if max_depth < 5:\n",
    "        log_error(skipped_fp, cpt_name, f\"Type 06 : depth<5: {max_depth}\")\n",
    "        continue\n",
    "    min_depth = min(z)\n",
    "    z_span = max_depth - min_depth\n",
    "    if z_span < 5:\n",
    "        log_error(skipped_fp, cpt_name, f\"Type 07 : depth range <5: {z_span}\")\n",
    "        continue\n",
    "        \n",
    "    #All the filtering is complete and this record has survived\n",
    "    \n",
    "    (z, Vs, Vs_SD) = Vs_McGann(z, qc, fs)\n",
    "                                                   \n",
    "    Vsz, max_depth = compute_vsz_from_vs(Vs, z)\n",
    "    vs30 = vsz_to_vs30(Vsz, z)\n",
    "\n",
    "    vs30_result = {}\n",
    "    vs30_result[\"NZTM_X\"] = loc.nztm_x\n",
    "    vs30_result[\"NZTM_Y\"] = loc.nztm_y\n",
    "    vs30_result[\"Vsz\"] = Vsz\n",
    "    vs30_result[\"Vs30\"] = vs30\n",
    "    vs30_result[\"Zmax\"] = max_depth\n",
    "    vs30_result[\"Zmin\"] = min_depth\n",
    "    vs30_result[\"Zspan\"] = z_span\n",
    "    results[cpt_name] = vs30_result\n",
    "    if row_n < 10:\n",
    "        fig, ax = plt.subplots()\n",
    "        ax.plot(fs, z)\n",
    "        ax.invert_yaxis()\n",
    "        ax.set_ylabel(\"Depth\")\n",
    "        ax.set_xlabel(\"fs\")\n",
    "        ax.grid()\n",
    "        fig.savefig(plot_dir / f\"{cpt_name}_fs.png\")\n",
    "        plt.close(fig)\n",
    "\n",
    "        fig, ax = plt.subplots()\n",
    "        lowerVs = np.exp(np.log(Vs) - Vs_SD)\n",
    "        upperVs = np.exp(np.log(Vs) + Vs_SD)\n",
    "        ax.plot(Vs, z, \"red\")\n",
    "        ax.plot(lowerVs, z, \"r--\", linewidth=0.5)\n",
    "        ax.plot(upperVs, z, \"r--\", linewidth=0.5)\n",
    "        ax.grid()\n",
    "        ax.invert_yaxis()\n",
    "        ax.set_ylabel(\"Depth\")\n",
    "        ax.set_xlabel(\"Vs (m/s)\")\n",
    "        ax.set_xlim(0, 600)\n",
    "        fig.savefig(plot_dir / f\"{cpt_name}_Vs.png\")\n",
    "        plt.close(fig)\n",
    "\n",
    "log_error(skipped_fp, \">>>>>\", f\"Ending loop : {timestamp}\")"
   ]
  },
  {
   "cell_type": "markdown",
   "id": "prospective-jungle",
   "metadata": {},
   "source": [
    "# Save Vs30 Estimates"
   ]
  },
  {
   "cell_type": "code",
   "execution_count": 30,
   "id": "hydraulic-serum",
   "metadata": {},
   "outputs": [
    {
     "ename": "KeyError",
     "evalue": "\"None of [Index(['NZTM_X', 'NZTM_Y'], dtype='object')] are in the [columns]\"",
     "output_type": "error",
     "traceback": [
      "\u001b[0;31m---------------------------------------------------------------------------\u001b[0m",
      "\u001b[0;31mKeyError\u001b[0m                                  Traceback (most recent call last)",
      "\u001b[0;32m/tmp/ipykernel_5112/2307173782.py\u001b[0m in \u001b[0;36m<module>\u001b[0;34m\u001b[0m\n\u001b[1;32m      2\u001b[0m \u001b[0mresult_df\u001b[0m\u001b[0;34m.\u001b[0m\u001b[0mto_csv\u001b[0m\u001b[0;34m(\u001b[0m\u001b[0moutput_file\u001b[0m\u001b[0;34m)\u001b[0m\u001b[0;34m\u001b[0m\u001b[0;34m\u001b[0m\u001b[0m\n\u001b[1;32m      3\u001b[0m \u001b[0;34m\u001b[0m\u001b[0m\n\u001b[0;32m----> 4\u001b[0;31m \u001b[0mll\u001b[0m \u001b[0;34m=\u001b[0m \u001b[0mgeo\u001b[0m\u001b[0;34m.\u001b[0m\u001b[0mwgs_nztm2000x\u001b[0m\u001b[0;34m(\u001b[0m\u001b[0mresult_df\u001b[0m\u001b[0;34m[\u001b[0m\u001b[0;34m[\u001b[0m\u001b[0;34m\"NZTM_X\"\u001b[0m\u001b[0;34m,\u001b[0m \u001b[0;34m\"NZTM_Y\"\u001b[0m\u001b[0;34m]\u001b[0m\u001b[0;34m]\u001b[0m\u001b[0;34m)\u001b[0m\u001b[0;34m\u001b[0m\u001b[0;34m\u001b[0m\u001b[0m\n\u001b[0m\u001b[1;32m      5\u001b[0m \u001b[0mresult_df\u001b[0m\u001b[0;34m[\u001b[0m\u001b[0;34m\"lon\"\u001b[0m\u001b[0;34m]\u001b[0m \u001b[0;34m=\u001b[0m \u001b[0mll\u001b[0m\u001b[0;34m[\u001b[0m\u001b[0;34m:\u001b[0m\u001b[0;34m,\u001b[0m \u001b[0;36m0\u001b[0m\u001b[0;34m]\u001b[0m\u001b[0;34m\u001b[0m\u001b[0;34m\u001b[0m\u001b[0m\n\u001b[1;32m      6\u001b[0m \u001b[0mresult_df\u001b[0m\u001b[0;34m[\u001b[0m\u001b[0;34m\"lat\"\u001b[0m\u001b[0;34m]\u001b[0m \u001b[0;34m=\u001b[0m \u001b[0mll\u001b[0m\u001b[0;34m[\u001b[0m\u001b[0;34m:\u001b[0m\u001b[0;34m,\u001b[0m \u001b[0;36m1\u001b[0m\u001b[0;34m]\u001b[0m\u001b[0;34m\u001b[0m\u001b[0;34m\u001b[0m\u001b[0m\n",
      "\u001b[0;32m/opt/miniconda/lib/python3.7/site-packages/pandas/core/frame.py\u001b[0m in \u001b[0;36m__getitem__\u001b[0;34m(self, key)\u001b[0m\n\u001b[1;32m   3459\u001b[0m             \u001b[0;32mif\u001b[0m \u001b[0mis_iterator\u001b[0m\u001b[0;34m(\u001b[0m\u001b[0mkey\u001b[0m\u001b[0;34m)\u001b[0m\u001b[0;34m:\u001b[0m\u001b[0;34m\u001b[0m\u001b[0;34m\u001b[0m\u001b[0m\n\u001b[1;32m   3460\u001b[0m                 \u001b[0mkey\u001b[0m \u001b[0;34m=\u001b[0m \u001b[0mlist\u001b[0m\u001b[0;34m(\u001b[0m\u001b[0mkey\u001b[0m\u001b[0;34m)\u001b[0m\u001b[0;34m\u001b[0m\u001b[0;34m\u001b[0m\u001b[0m\n\u001b[0;32m-> 3461\u001b[0;31m             \u001b[0mindexer\u001b[0m \u001b[0;34m=\u001b[0m \u001b[0mself\u001b[0m\u001b[0;34m.\u001b[0m\u001b[0mloc\u001b[0m\u001b[0;34m.\u001b[0m\u001b[0m_get_listlike_indexer\u001b[0m\u001b[0;34m(\u001b[0m\u001b[0mkey\u001b[0m\u001b[0;34m,\u001b[0m \u001b[0maxis\u001b[0m\u001b[0;34m=\u001b[0m\u001b[0;36m1\u001b[0m\u001b[0;34m)\u001b[0m\u001b[0;34m[\u001b[0m\u001b[0;36m1\u001b[0m\u001b[0;34m]\u001b[0m\u001b[0;34m\u001b[0m\u001b[0;34m\u001b[0m\u001b[0m\n\u001b[0m\u001b[1;32m   3462\u001b[0m \u001b[0;34m\u001b[0m\u001b[0m\n\u001b[1;32m   3463\u001b[0m         \u001b[0;31m# take() does not accept boolean indexers\u001b[0m\u001b[0;34m\u001b[0m\u001b[0;34m\u001b[0m\u001b[0;34m\u001b[0m\u001b[0m\n",
      "\u001b[0;32m/opt/miniconda/lib/python3.7/site-packages/pandas/core/indexing.py\u001b[0m in \u001b[0;36m_get_listlike_indexer\u001b[0;34m(self, key, axis)\u001b[0m\n\u001b[1;32m   1312\u001b[0m             \u001b[0mkeyarr\u001b[0m\u001b[0;34m,\u001b[0m \u001b[0mindexer\u001b[0m\u001b[0;34m,\u001b[0m \u001b[0mnew_indexer\u001b[0m \u001b[0;34m=\u001b[0m \u001b[0max\u001b[0m\u001b[0;34m.\u001b[0m\u001b[0m_reindex_non_unique\u001b[0m\u001b[0;34m(\u001b[0m\u001b[0mkeyarr\u001b[0m\u001b[0;34m)\u001b[0m\u001b[0;34m\u001b[0m\u001b[0;34m\u001b[0m\u001b[0m\n\u001b[1;32m   1313\u001b[0m \u001b[0;34m\u001b[0m\u001b[0m\n\u001b[0;32m-> 1314\u001b[0;31m         \u001b[0mself\u001b[0m\u001b[0;34m.\u001b[0m\u001b[0m_validate_read_indexer\u001b[0m\u001b[0;34m(\u001b[0m\u001b[0mkeyarr\u001b[0m\u001b[0;34m,\u001b[0m \u001b[0mindexer\u001b[0m\u001b[0;34m,\u001b[0m \u001b[0maxis\u001b[0m\u001b[0;34m)\u001b[0m\u001b[0;34m\u001b[0m\u001b[0;34m\u001b[0m\u001b[0m\n\u001b[0m\u001b[1;32m   1315\u001b[0m \u001b[0;34m\u001b[0m\u001b[0m\n\u001b[1;32m   1316\u001b[0m         if needs_i8_conversion(ax.dtype) or isinstance(\n",
      "\u001b[0;32m/opt/miniconda/lib/python3.7/site-packages/pandas/core/indexing.py\u001b[0m in \u001b[0;36m_validate_read_indexer\u001b[0;34m(self, key, indexer, axis)\u001b[0m\n\u001b[1;32m   1372\u001b[0m                 \u001b[0;32mif\u001b[0m \u001b[0muse_interval_msg\u001b[0m\u001b[0;34m:\u001b[0m\u001b[0;34m\u001b[0m\u001b[0;34m\u001b[0m\u001b[0m\n\u001b[1;32m   1373\u001b[0m                     \u001b[0mkey\u001b[0m \u001b[0;34m=\u001b[0m \u001b[0mlist\u001b[0m\u001b[0;34m(\u001b[0m\u001b[0mkey\u001b[0m\u001b[0;34m)\u001b[0m\u001b[0;34m\u001b[0m\u001b[0;34m\u001b[0m\u001b[0m\n\u001b[0;32m-> 1374\u001b[0;31m                 \u001b[0;32mraise\u001b[0m \u001b[0mKeyError\u001b[0m\u001b[0;34m(\u001b[0m\u001b[0;34mf\"None of [{key}] are in the [{axis_name}]\"\u001b[0m\u001b[0;34m)\u001b[0m\u001b[0;34m\u001b[0m\u001b[0;34m\u001b[0m\u001b[0m\n\u001b[0m\u001b[1;32m   1375\u001b[0m \u001b[0;34m\u001b[0m\u001b[0m\n\u001b[1;32m   1376\u001b[0m             \u001b[0mnot_found\u001b[0m \u001b[0;34m=\u001b[0m \u001b[0mlist\u001b[0m\u001b[0;34m(\u001b[0m\u001b[0mensure_index\u001b[0m\u001b[0;34m(\u001b[0m\u001b[0mkey\u001b[0m\u001b[0;34m)\u001b[0m\u001b[0;34m[\u001b[0m\u001b[0mmissing_mask\u001b[0m\u001b[0;34m.\u001b[0m\u001b[0mnonzero\u001b[0m\u001b[0;34m(\u001b[0m\u001b[0;34m)\u001b[0m\u001b[0;34m[\u001b[0m\u001b[0;36m0\u001b[0m\u001b[0;34m]\u001b[0m\u001b[0;34m]\u001b[0m\u001b[0;34m.\u001b[0m\u001b[0munique\u001b[0m\u001b[0;34m(\u001b[0m\u001b[0;34m)\u001b[0m\u001b[0;34m)\u001b[0m\u001b[0;34m\u001b[0m\u001b[0;34m\u001b[0m\u001b[0m\n",
      "\u001b[0;31mKeyError\u001b[0m: \"None of [Index(['NZTM_X', 'NZTM_Y'], dtype='object')] are in the [columns]\""
     ]
    }
   ],
   "source": [
    "result_df = pd.DataFrame.from_dict(results, orient=\"index\")\n",
    "result_df.to_csv(output_file)\n",
    "\n",
    "ll = geo.wgs_nztm2000x(result_df[[\"NZTM_X\", \"NZTM_Y\"]])\n",
    "result_df[\"lon\"] = ll[:, 0]\n",
    "result_df[\"lat\"] = ll[:, 1]\n",
    "\n",
    "result_df.plot.scatter(\"Vs30\", \"Vsz\")\n",
    "fig = plt.gcf()\n",
    "fig.savefig(plot_dir / \"vs30_vsz_scatter.png\")"
   ]
  },
  {
   "cell_type": "code",
   "execution_count": null,
   "id": "5d7bf7cd-8b13-44ac-bac0-e6d36276ec9f",
   "metadata": {},
   "outputs": [],
   "source": [
    "result_df"
   ]
  },
  {
   "cell_type": "code",
   "execution_count": null,
   "id": "5c17c12f-8537-4bb7-82f9-ecdbb2e3b14e",
   "metadata": {},
   "outputs": [],
   "source": []
  },
  {
   "cell_type": "code",
   "execution_count": null,
   "id": "endangered-tomato",
   "metadata": {},
   "outputs": [],
   "source": []
  }
 ],
 "metadata": {
  "kernelspec": {
   "display_name": "Python 3 (ipykernel)",
   "language": "python",
   "name": "python3"
  },
  "language_info": {
   "codemirror_mode": {
    "name": "ipython",
    "version": 3
   },
   "file_extension": ".py",
   "mimetype": "text/x-python",
   "name": "python",
   "nbconvert_exporter": "python",
   "pygments_lexer": "ipython3",
   "version": "3.7.10"
  }
 },
 "nbformat": 4,
 "nbformat_minor": 5
}
