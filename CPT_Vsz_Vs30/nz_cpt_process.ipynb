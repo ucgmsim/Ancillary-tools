{
 "cells": [
  {
   "cell_type": "code",
   "execution_count": 32,
   "id": "4149c276-2779-4e8f-af16-82ee12f934c0",
   "metadata": {},
   "outputs": [
    {
     "name": "stdout",
     "output_type": "stream",
     "text": [
      "zmax_20m_vs_cap\n"
     ]
    }
   ],
   "source": [
    "from time import strftime,localtime\n",
    "\n",
    "# if you want to reuse the same dup_locs, reuse the old version name\n",
    "version=\"zmax_20m_vs_cap\"\n",
    "\n",
    "if version is None:\n",
    "    version=strftime(\"%Y%m%d_%H%M\", localtime())\n",
    "print(version)\n",
    "\n",
    "DUP_CHECK = False\n",
    "ZMAX_CUTOFF=20\n",
    "VS_CAP = True"
   ]
  },
  {
   "cell_type": "code",
   "execution_count": 33,
   "id": "focal-racing",
   "metadata": {},
   "outputs": [],
   "source": [
    "SHARED=\"/data/sharing/QuakeCoRE\"\n",
    "\n",
    "import sys\n",
    "\n",
    "sys.path.append(f\"{SHARED}/Ancillary_tools/CPT_Vsz_Vs30\")\n",
    "sys.path.append(f\"{SHARED}/Ancillary_tools\")\n",
    "sys.path.append(f\"{SHARED}/qcore\")\n",
    "\n",
    "from collections import Counter\n",
    "\n",
    "import os\n",
    "import os.path\n",
    "from pathlib import Path\n",
    "import yaml\n",
    "\n",
    "\n",
    "from matplotlib import pyplot as plt\n",
    "import numpy as np\n",
    "import pandas as pd\n",
    "\n",
    "\n",
    "from sqlalchemy import Column, ForeignKey, Integer, String, Float\n",
    "from sqlalchemy.ext.declarative import declarative_base\n",
    "from sqlalchemy.orm import relationship\n",
    "from sqlalchemy import create_engine, desc\n",
    "from sqlalchemy.orm import sessionmaker\n",
    "\n",
    "\n",
    "from getCPTdata import getCPTdata\n",
    "from getCPTparam import getCPTparam\n",
    "from computeVs import Vs_McGann,Vs_Robertson, Vs_Andrus, Vs_Hegazy, Vs_McGann2\n",
    "from computeVsz import compute_vsz_from_vs\n",
    "from computeVs30 import vsz_to_vs30\n",
    "from loc_filter import locs_multiple_records\n",
    "from qcore import geo\n",
    "\n",
    "\n",
    "HOME = Path(os.path.expanduser(\"~\"))\n",
    "out_dir = HOME / f\"Data/cpt/outdir/{version}\"\n",
    "plot_dir = out_dir / \"validation_plots\"\n",
    "\n",
    "plot_dir.mkdir(parents=True, exist_ok=True)\n",
    "\n",
    "\n",
    "\n",
    "results = {}\n",
    "\n",
    "\n",
    "\n",
    "engine = create_engine(f'sqlite:///{SHARED}/Data/nz_cpt.db')\n",
    "DBSession = sessionmaker(bind=engine)\n",
    "session = DBSession()\n",
    "                \n",
    "\n",
    "\n",
    "def log_error(skipped_fp, cpt_name, error):\n",
    "    skipped_fp.write(f\"{cpt_name} - {error}\\n\")\n",
    "\n",
    "\n",
    "def count_digits(arr):\n",
    "    stringified = str(arr).replace(\"0\", \"\").replace(\".\", \"\")\n",
    "    return Counter(stringified)\n",
    "\n",
    "\n",
    "Base = declarative_base()\n",
    "\n",
    "class CPTLocation(Base):\n",
    "    __tablename__ = 'cpt_location'\n",
    "    id = Column(Integer, primary_key=True)\n",
    "    #    customer_id=Column(Integer, ForeignKey('customers.id'))\n",
    "    name = Column(String(20), nullable=False)  # 20210427_17\n",
    "    private = Column(Integer) #true / false\n",
    "    type = Column(String(5)) # CPT or SCPT\n",
    "    nztm_x = Column(Float)\n",
    "    nztm_y = Column(Float)\n",
    "\n",
    "    def __iter__(self): #overridding this to return tuples of (key,value)\n",
    "        return iter([('id',self.id),('name',self.name),('nztm_x',self.nztm_x),('nztm_y',self.nztm_y)])\n",
    "\n",
    "\n",
    "class CPTDepthRecord(Base):\n",
    "    __tablename__ = 'cpt_depth_record'\n",
    "    id = Column(Integer, primary_key=True)\n",
    "    cpt_name = Column(String(20), nullable=False)  # \n",
    "    depth = Column(Float) #\n",
    "    qc = Column(Float) #\n",
    "    fs = Column(Float)\n",
    "    u = Column(Float)\n",
    "    loc_id = Column(Integer, ForeignKey('cpt_location.id'))\n",
    "    \n",
    "    def __iter__(self): #overridding this to return tuples of (key,value)\n",
    "        return iter([('id',self.id),('depth',self.depth),('qc',self.qc),('fs',self.fs),('u',self.u),('loc_id',self.loc_id)])\n",
    "\n",
    "\n",
    "# not really useful, but presented as an example\n",
    "def cpt_records(cpt_name):\n",
    "    res=session.query(CPTDepthRecord).filter(CPTDepthRecord.cpt_name == cpt_name).all()\n",
    "    return res\n",
    "\n",
    "# not really useful, but presented as an example\n",
    "def max_depth_record(cpt_name):\n",
    "    res=session.query(CPTDepthRecord).filter(CPTDepthRecord.cpt_name == cpt_name).order_by(CPTDepthRecord.depth.desc()).first()\n",
    "    return res\n",
    "\n",
    "# the following 3 functions are actually used\n",
    "def cpt_locations():\n",
    "    return session.query(CPTLocation).all()\n",
    "\n",
    "def cpt_records_exists(cpt_name):\n",
    "    res=session.query(CPTDepthRecord).filter(CPTDepthRecord.cpt_name == cpt_name).first()\n",
    "    return (res is not None)\n",
    "\n",
    "def get_cpt_data(cpt_name, columnwise=True):\n",
    "    res=session.query(CPTDepthRecord.depth,CPTDepthRecord.qc,CPTDepthRecord.fs,CPTDepthRecord.u).filter(CPTDepthRecord.cpt_name == cpt_name).all()\n",
    "    res_array =np.array(res)\n",
    "    if columnwise: #each column is grouped together\n",
    "        res_array = res_array.T\n",
    "    return res_array\n",
    "    \n",
    "\n",
    "def cpt_to_vs(correlationName, z, qc, fs, u2):\n",
    "    (qt, Ic, Qtn, qc1n, qt1n, effStress) = getCPTparam(z, qc, fs, u2)\n",
    "\n",
    "    if correlationName == 'McGann':\n",
    "        (z, Vs, Vs_SD) = Vs_McGann(z, qc, fs)\n",
    "\n",
    "    elif correlationName == 'Andrus':\n",
    "        (z, Vs, Vs_SD) = Vs_Andrus(Ic, z, qt)\n",
    "\n",
    "    elif correlationName == 'Robertson':\n",
    "        (z, Vs, Vs_SD) = Vs_Robertson(z, Ic, Qtn, effStress)\n",
    "\n",
    "    elif correlationName == 'Hegazy':\n",
    "        (z, Vs, Vs_SD) = Vs_Hegazy(z, Ic, qc1n, effStress)\n",
    "\n",
    "    elif correlationName == 'McGann2':\n",
    "        (z, Vs, Vs_SD) = Vs_McGann2(z, qc, fs)\n",
    "    \n",
    "    return z, Vs, Vs_SD\n",
    "    "
   ]
  },
  {
   "cell_type": "markdown",
   "id": "satellite-cable",
   "metadata": {},
   "source": [
    "# Usage Examples"
   ]
  },
  {
   "cell_type": "markdown",
   "id": "manufactured-politics",
   "metadata": {},
   "source": [
    "Check if any record found for a CPT name"
   ]
  },
  {
   "cell_type": "code",
   "execution_count": 34,
   "id": "interesting-seafood",
   "metadata": {},
   "outputs": [
    {
     "name": "stdout",
     "output_type": "stream",
     "text": [
      "False\n",
      "True\n"
     ]
    }
   ],
   "source": [
    "print(cpt_records_exists(\"CPT_108566\"))\n",
    "print(cpt_records_exists(\"SCPT_140251\"))\n"
   ]
  },
  {
   "cell_type": "code",
   "execution_count": 35,
   "id": "based-hypothesis",
   "metadata": {},
   "outputs": [
    {
     "data": {
      "text/plain": [
       "array([], dtype=float64)"
      ]
     },
     "execution_count": 35,
     "metadata": {},
     "output_type": "execute_result"
    }
   ],
   "source": [
    "get_cpt_data(\"CPT_108566\")\n"
   ]
  },
  {
   "cell_type": "markdown",
   "id": "chief-bernard",
   "metadata": {},
   "source": [
    "Retrieve CPT records for a given CPT"
   ]
  },
  {
   "cell_type": "code",
   "execution_count": 36,
   "id": "associate-multimedia",
   "metadata": {},
   "outputs": [
    {
     "name": "stdout",
     "output_type": "stream",
     "text": [
      "CPU times: user 16.4 ms, sys: 5 µs, total: 16.4 ms\n",
      "Wall time: 16 ms\n"
     ]
    }
   ],
   "source": [
    "%%time\n",
    "res=cpt_records('SCPT_140251')\n",
    "#print(res)\n",
    "#print(res[0].depth)"
   ]
  },
  {
   "cell_type": "markdown",
   "id": "dimensional-cigarette",
   "metadata": {},
   "source": [
    "However, the following function is preferred"
   ]
  },
  {
   "cell_type": "code",
   "execution_count": 37,
   "id": "closing-native",
   "metadata": {},
   "outputs": [],
   "source": [
    "depth, qc, fs, u = get_cpt_data(\"SCPT_140251\")"
   ]
  },
  {
   "cell_type": "code",
   "execution_count": 38,
   "id": "219cd3de-560d-4b81-9dfe-54a7b06fc878",
   "metadata": {},
   "outputs": [
    {
     "name": "stdout",
     "output_type": "stream",
     "text": [
      "[ 0.03  0.05  0.07 ... 20.65 20.67 20.69]\n"
     ]
    }
   ],
   "source": [
    "print(depth)"
   ]
  },
  {
   "cell_type": "markdown",
   "id": "religious-filter",
   "metadata": {},
   "source": [
    "With `columnwise=False`, each CPT depth record is grouped together as below. `columnwise=True` by default"
   ]
  },
  {
   "cell_type": "code",
   "execution_count": 39,
   "id": "normal-latter",
   "metadata": {},
   "outputs": [
    {
     "name": "stdout",
     "output_type": "stream",
     "text": [
      "[ 0.03    0.0105  0.0002 -0.0004]\n"
     ]
    }
   ],
   "source": [
    "cpt_records = get_cpt_data(\"SCPT_140251\", columnwise=False)\n",
    "print(cpt_records[0])"
   ]
  },
  {
   "cell_type": "markdown",
   "id": "simple-anaheim",
   "metadata": {},
   "source": [
    "Retrieves all locations"
   ]
  },
  {
   "cell_type": "code",
   "execution_count": 40,
   "id": "simplified-notion",
   "metadata": {},
   "outputs": [
    {
     "name": "stdout",
     "output_type": "stream",
     "text": [
      "{'id': 1, 'name': 'CPT_1', 'nztm_x': 1576467.294706431, 'nztm_y': 5181262.382226084}\n",
      "CPU times: user 1.38 s, sys: 56 ms, total: 1.44 s\n",
      "Wall time: 1.44 s\n"
     ]
    }
   ],
   "source": [
    "%%time\n",
    "locs = cpt_locations()\n",
    "print(dict(locs[0]))\n"
   ]
  },
  {
   "cell_type": "markdown",
   "id": "medical-appendix",
   "metadata": {},
   "source": [
    "The record at the maximum depth can be retrived by this function. (In practice, this function may not be useful)"
   ]
  },
  {
   "cell_type": "code",
   "execution_count": 41,
   "id": "tropical-wilson",
   "metadata": {},
   "outputs": [
    {
     "name": "stdout",
     "output_type": "stream",
     "text": [
      "{'id': 1034, 'depth': 20.69, 'qc': 22.7256, 'fs': 1.0416, 'u': -0.0251, 'loc_id': 39741}\n",
      "CPU times: user 4.12 ms, sys: 2 µs, total: 4.12 ms\n",
      "Wall time: 3.44 ms\n"
     ]
    }
   ],
   "source": [
    "%%time\n",
    "print(dict(max_depth_record('SCPT_140251')))\n"
   ]
  },
  {
   "cell_type": "markdown",
   "id": "remarkable-citizen",
   "metadata": {},
   "source": [
    "# Find Duplicate Locations"
   ]
  },
  {
   "cell_type": "code",
   "execution_count": 42,
   "id": "turkish-sapphire",
   "metadata": {},
   "outputs": [],
   "source": [
    "#dup_locs_dict is a dictionary {loc0:[loc00,loc01],loc1:[loc10,loc11,loc12],loc2:[loc20]...} \n",
    "#meaning loc00,loc01 are within 0.1m distance from loc0. It may be too strict.\n",
    "\n",
    "#computing locs_multiple_records() takes about 5 mins, and I'm skipping here\n",
    "#if filtering criteria needs to be updated, revise locs_multiple_records() @ loc_filter.py and delete out_dir/dup_locs.yaml\n",
    "\n",
    "if DUP_CHECK:\n",
    "    dup_locs_yaml_file = out_dir/\"dup_locs.yaml\"\n",
    "    if dup_locs_yaml_file.exists():\n",
    "        with open(out_dir/\"dup_locs.yaml\", 'r') as f:\n",
    "            dup_locs_dict = yaml.load(f, Loader=yaml.SafeLoader)\n",
    "    else:        \n",
    "        dup_locs_dict=locs_multiple_records(locs, stdout=True)\n",
    "        #let's save this in a yaml file for future use\n",
    "        with open(out_dir/\"dup_locs.yaml\",\"w\") as f:\n",
    "            yaml.safe_dump(dup_locs_dict,f)\n",
    "\n",
    "\n",
    "    #flattens dictionary into lists. [loc00,loc01,loc10,loc11,loc12,loc20...]\n",
    "    import functools,operator\n",
    "    dup_locs = functools.reduce(operator.iconcat, list(dup_locs_dict.values()), []) \n",
    "\n",
    "#note that loc0,loc1 are not in dup_locs. These locations are to be processed. Duplicates are to be skipped\n"
   ]
  },
  {
   "cell_type": "markdown",
   "id": "weird-elevation",
   "metadata": {},
   "source": [
    "# Main routine\n",
    "\n",
    "Loops through all `locs`, and for each location, it performs filtering process. When all the filtering criteria is met, it does conversion from CPT to Vs, Vsz and Vs30"
   ]
  },
  {
   "cell_type": "code",
   "execution_count": 43,
   "id": "reverse-tension",
   "metadata": {},
   "outputs": [
    {
     "name": "stdout",
     "output_type": "stream",
     "text": [
      "1/49321 - CPT_1\n"
     ]
    },
    {
     "name": "stderr",
     "output_type": "stream",
     "text": [
      "/opt/miniconda/lib/python3.7/site-packages/numpy/core/fromnumeric.py:3420: RuntimeWarning: Mean of empty slice.\n",
      "  out=out, **kwargs)\n",
      "/opt/miniconda/lib/python3.7/site-packages/numpy/core/_methods.py:188: RuntimeWarning: invalid value encountered in double_scalars\n",
      "  ret = ret.dtype.type(ret / rcount)\n"
     ]
    },
    {
     "name": "stdout",
     "output_type": "stream",
     "text": [
      "1001/49321 - CPT_103928\n",
      "2001/49321 - CPT_106698\n",
      "3001/49321 - CPT_11089\n",
      "4001/49321 - CPT_114078\n",
      "5001/49321 - CPT_117087\n",
      "6001/49321 - CPT_12186\n",
      "7001/49321 - CPT_125211\n",
      "8001/49321 - CPT_128596\n",
      "9001/49321 - CPT_132681\n",
      "10001/49321 - CPT_137341\n",
      "11001/49321 - CPT_141680\n",
      "12001/49321 - CPT_145879\n",
      "13001/49321 - CPT_16553\n",
      "14001/49321 - CPT_19038\n",
      "15001/49321 - CPT_2146\n",
      "16001/49321 - CPT_24500\n",
      "17001/49321 - CPT_26055\n",
      "18001/49321 - CPT_2792\n",
      "19001/49321 - CPT_30110\n",
      "20001/49321 - CPT_32698\n",
      "21001/49321 - CPT_34626\n",
      "22001/49321 - CPT_36850\n",
      "23001/49321 - CPT_38626\n",
      "24001/49321 - CPT_417\n",
      "25001/49321 - CPT_45201\n",
      "26001/49321 - CPT_48331\n",
      "27001/49321 - CPT_50668\n",
      "28001/49321 - CPT_55065\n",
      "29001/49321 - CPT_56472\n",
      "30001/49321 - CPT_60154\n",
      "31001/49321 - CPT_66741\n",
      "32001/49321 - CPT_72304\n",
      "33001/49321 - CPT_74578\n",
      "34001/49321 - CPT_78353\n",
      "35001/49321 - CPT_86823\n",
      "36001/49321 - CPT_8930\n",
      "37001/49321 - CPT_93158\n",
      "38001/49321 - CPT_95034\n",
      "39001/49321 - CPT_97857\n",
      "40001/49321 - CPT_TT101422\n",
      "41001/49321 - CPT_TT111947\n",
      "42001/49321 - CPT_TT133848\n",
      "43001/49321 - CPT_TT16110\n",
      "44001/49321 - CPT_TT38531\n",
      "45001/49321 - CPT_TT45567\n",
      "46001/49321 - CPT_TT55015\n",
      "47001/49321 - CPT_TT59458\n",
      "48001/49321 - CPT_TT75852\n",
      "49001/49321 - CPT_TT97391\n",
      "CPU times: user 8min 44s, sys: 6.12 s, total: 8min 51s\n",
      "Wall time: 8min 49s\n"
     ]
    }
   ],
   "source": [
    "%%time\n",
    "skipped_fp = open(out_dir / f\"skipped_cpts\", \"w\")\n",
    "output_file = out_dir / f\"vs30_results.csv\"\n",
    "\n",
    "log_error(skipped_fp, \"<<<<<\", f\"Beginning loop : {version}\")\n",
    "for row_n, loc in enumerate(locs):\n",
    "    \n",
    "    cpt_name = loc.name\n",
    "    \n",
    "    if row_n % 1000 == 0: #print every 1000\n",
    "        print(f\"{row_n+1}/{len(locs)} - {cpt_name}\")\n",
    "\n",
    "        \n",
    "    if not cpt_records_exists(cpt_name):\n",
    "        log_error(skipped_fp, cpt_name, f\"Type 01 : No record found: {cpt_name}\")\n",
    "        continue\n",
    "    \n",
    "    z, qc, fs, u2 = get_cpt_data(cpt_name)\n",
    "     \n",
    "\n",
    "    # duplicate location\n",
    "    if DUP_CHECK:\n",
    "        if cpt_name in dup_locs:\n",
    "            log_error(skipped_fp, cpt_name, f\"Type 02 :Duplicate location\")\n",
    "            continue\n",
    "\n",
    "    # duplicate depth check\n",
    "    u, c = np.unique(z, return_counts=True)\n",
    "    if np.any([c > 1]):\n",
    "        log_error(skipped_fp, cpt_name, f\"Type 03 : Duplicate depth detected - invalid CPT\")\n",
    "        continue\n",
    "\n",
    "    # Check for invalid negative readings\n",
    "    if any(fs < -0.2) or any(qc < -0.2) or any(u2 < -0.2):\n",
    "        log_error(skipped_fp, cpt_name, f\"Type 04 : negative value - discarding\")\n",
    "        continue\n",
    "\n",
    "    # Check for repeated digits\n",
    "    if any(value > 3 for fs_value in fs for value in count_digits(fs_value).values()):\n",
    "        log_error(skipped_fp, cpt_name, f\"Type 05 : Repeated digit - investigating\")\n",
    "        continue\n",
    "\n",
    "    max_depth = max(z)\n",
    "    if max_depth < ZMAX_CUTOFF:\n",
    "        log_error(skipped_fp, cpt_name, f\"Type 06 : depth<5: {max_depth}\")\n",
    "        continue\n",
    "    min_depth = min(z)\n",
    "    z_span = max_depth - min_depth\n",
    "    if z_span < 5:\n",
    "        log_error(skipped_fp, cpt_name, f\"Type 07 : depth range <5: {z_span}\")\n",
    "        continue\n",
    "        \n",
    "    #All the filtering is complete and this record has survived\n",
    "    \n",
    "    (z, Vs, Vs_SD) = cpt_to_vs('McGann', z, qc, fs, u2) #can use \"Andrus\" \"Robertson\" \"Hegazy\" \"McGann2\" instead\n",
    "    \n",
    "    # ChrisDlt's idea: Vs30(z<3m) = min(Vs30(z=3), mean(Vs30(2.5 < z < 3.5) ) ) \n",
    "\n",
    "    # vs30 is computed futher down, and is a scalar - so working with Vs instead\n",
    "    if VS_CAP:\n",
    "        Vs_in_2p5_3p5m = np.mean(Vs[np.where((z>=2.5) & (z<3.5))])\n",
    "        idx_at_z3 = np.argmin(np.abs(z-3.00)) # find index at z==3.0 (or as close as possible)\n",
    "        Vs_at_3m = Vs[idx_at_z3][0]\n",
    "        Vs[np.where(z<3)] = min(Vs_at_3m,Vs_in_2p5_3p5m)                                          \n",
    "    \n",
    "    Vsz, max_depth = compute_vsz_from_vs(Vs, z)\n",
    "    \n",
    "    vs30 = vsz_to_vs30(Vsz, z)\n",
    "\n",
    "    vs30_result = {}\n",
    "    vs30_result[\"NZTM_X\"] = loc.nztm_x\n",
    "    vs30_result[\"NZTM_Y\"] = loc.nztm_y\n",
    "    vs30_result[\"Vsz\"] = Vsz\n",
    "    vs30_result[\"Vs30\"] = vs30\n",
    "    vs30_result[\"Zmax\"] = max_depth\n",
    "    vs30_result[\"Zmin\"] = min_depth\n",
    "    vs30_result[\"Zspan\"] = z_span\n",
    "    results[cpt_name] = vs30_result\n",
    "    if row_n < 10:\n",
    "        fig, ax = plt.subplots()\n",
    "        ax.plot(fs, z)\n",
    "        ax.invert_yaxis()\n",
    "        ax.set_ylabel(\"Depth\")\n",
    "        ax.set_xlabel(\"fs\")\n",
    "        ax.grid()\n",
    "        fig.savefig(plot_dir / f\"{cpt_name}_fs.png\")\n",
    "        plt.close(fig)\n",
    "\n",
    "        fig, ax = plt.subplots()\n",
    "        lowerVs = np.exp(np.log(Vs) - Vs_SD)\n",
    "        upperVs = np.exp(np.log(Vs) + Vs_SD)\n",
    "        ax.plot(Vs, z, \"red\")\n",
    "        ax.plot(lowerVs, z, \"r--\", linewidth=0.5)\n",
    "        ax.plot(upperVs, z, \"r--\", linewidth=0.5)\n",
    "        ax.grid()\n",
    "        ax.invert_yaxis()\n",
    "        ax.set_ylabel(\"Depth\")\n",
    "        ax.set_xlabel(\"Vs (m/s)\")\n",
    "        ax.set_xlim(0, 600)\n",
    "        fig.savefig(plot_dir / f\"{cpt_name}_Vs.png\")\n",
    "        plt.close(fig)\n",
    "\n",
    "log_error(skipped_fp, \">>>>>\", f\"Ending loop : {version}\")"
   ]
  },
  {
   "cell_type": "markdown",
   "id": "prospective-jungle",
   "metadata": {},
   "source": [
    "# Save Vs30 Estimates"
   ]
  },
  {
   "cell_type": "code",
   "execution_count": 46,
   "id": "hydraulic-serum",
   "metadata": {},
   "outputs": [
    {
     "data": {
      "image/png": "[encoded data removed]",
      "text/plain": [
       "<Figure size 432x288 with 1 Axes>"
      ]
     },
     "metadata": {
      "needs_background": "light"
     },
     "output_type": "display_data"
    }
   ],
   "source": [
    "result_df = pd.DataFrame.from_dict(results, orient=\"index\")\n",
    "result_df.to_csv(output_file)\n",
    "\n",
    "ll = geo.wgs_nztm2000x(result_df[[\"NZTM_X\", \"NZTM_Y\"]])\n",
    "result_df[\"lon\"] = ll[:, 0]\n",
    "result_df[\"lat\"] = ll[:, 1]\n",
    "\n",
    "result_df.plot.scatter(\"Vs30\", \"Vsz\")\n",
    "fig = plt.gcf()\n",
    "fig.savefig(plot_dir / \"vs30_vsz_scatter.png\")"
   ]
  },
  {
   "cell_type": "code",
   "execution_count": 47,
   "id": "5d7bf7cd-8b13-44ac-bac0-e6d36276ec9f",
   "metadata": {},
   "outputs": [
    {
     "data": {
      "text/html": [
       "<div>\n",
       "<style scoped>\n",
       "    .dataframe tbody tr th:only-of-type {\n",
       "        vertical-align: middle;\n",
       "    }\n",
       "\n",
       "    .dataframe tbody tr th {\n",
       "        vertical-align: top;\n",
       "    }\n",
       "\n",
       "    .dataframe thead th {\n",
       "        text-align: right;\n",
       "    }\n",
       "</style>\n",
       "<table border=\"1\" class=\"dataframe\">\n",
       "  <thead>\n",
       "    <tr style=\"text-align: right;\">\n",
       "      <th></th>\n",
       "      <th>NZTM_X</th>\n",
       "      <th>NZTM_Y</th>\n",
       "      <th>Vsz</th>\n",
       "      <th>Vs30</th>\n",
       "      <th>Zmax</th>\n",
       "      <th>Zmin</th>\n",
       "      <th>Zspan</th>\n",
       "      <th>lon</th>\n",
       "      <th>lat</th>\n",
       "    </tr>\n",
       "  </thead>\n",
       "  <tbody>\n",
       "    <tr>\n",
       "      <th>CPT_1</th>\n",
       "      <td>1.576467e+06</td>\n",
       "      <td>5.181262e+06</td>\n",
       "      <td>210.512137</td>\n",
       "      <td>227.536512</td>\n",
       "      <td>25</td>\n",
       "      <td>0.04</td>\n",
       "      <td>25.92</td>\n",
       "      <td>172.708811</td>\n",
       "      <td>-43.521206</td>\n",
       "    </tr>\n",
       "    <tr>\n",
       "      <th>CPT_10001</th>\n",
       "      <td>1.570257e+06</td>\n",
       "      <td>5.178666e+06</td>\n",
       "      <td>147.944481</td>\n",
       "      <td>164.045386</td>\n",
       "      <td>23</td>\n",
       "      <td>0.00</td>\n",
       "      <td>23.34</td>\n",
       "      <td>172.631824</td>\n",
       "      <td>-43.544364</td>\n",
       "    </tr>\n",
       "    <tr>\n",
       "      <th>CPT_10003</th>\n",
       "      <td>1.571621e+06</td>\n",
       "      <td>5.179830e+06</td>\n",
       "      <td>179.581477</td>\n",
       "      <td>187.277570</td>\n",
       "      <td>27</td>\n",
       "      <td>0.00</td>\n",
       "      <td>27.30</td>\n",
       "      <td>172.648774</td>\n",
       "      <td>-43.533931</td>\n",
       "    </tr>\n",
       "    <tr>\n",
       "      <th>CPT_10004</th>\n",
       "      <td>1.571595e+06</td>\n",
       "      <td>5.179847e+06</td>\n",
       "      <td>183.241755</td>\n",
       "      <td>191.155068</td>\n",
       "      <td>27</td>\n",
       "      <td>0.00</td>\n",
       "      <td>27.24</td>\n",
       "      <td>172.648453</td>\n",
       "      <td>-43.533778</td>\n",
       "    </tr>\n",
       "    <tr>\n",
       "      <th>CPT_10005</th>\n",
       "      <td>1.570682e+06</td>\n",
       "      <td>5.180753e+06</td>\n",
       "      <td>152.126549</td>\n",
       "      <td>180.488281</td>\n",
       "      <td>20</td>\n",
       "      <td>0.40</td>\n",
       "      <td>19.66</td>\n",
       "      <td>172.637194</td>\n",
       "      <td>-43.525588</td>\n",
       "    </tr>\n",
       "    <tr>\n",
       "      <th>...</th>\n",
       "      <td>...</td>\n",
       "      <td>...</td>\n",
       "      <td>...</td>\n",
       "      <td>...</td>\n",
       "      <td>...</td>\n",
       "      <td>...</td>\n",
       "      <td>...</td>\n",
       "      <td>...</td>\n",
       "      <td>...</td>\n",
       "    </tr>\n",
       "    <tr>\n",
       "      <th>SCPT_TT95352</th>\n",
       "      <td>1.746063e+06</td>\n",
       "      <td>5.969807e+06</td>\n",
       "      <td>127.014493</td>\n",
       "      <td>143.107875</td>\n",
       "      <td>22</td>\n",
       "      <td>0.01</td>\n",
       "      <td>22.10</td>\n",
       "      <td>174.628946</td>\n",
       "      <td>-36.405812</td>\n",
       "    </tr>\n",
       "    <tr>\n",
       "      <th>SCPT_TT95395</th>\n",
       "      <td>1.746175e+06</td>\n",
       "      <td>5.969737e+06</td>\n",
       "      <td>122.926809</td>\n",
       "      <td>138.253939</td>\n",
       "      <td>22</td>\n",
       "      <td>0.01</td>\n",
       "      <td>22.60</td>\n",
       "      <td>174.630211</td>\n",
       "      <td>-36.406429</td>\n",
       "    </tr>\n",
       "    <tr>\n",
       "      <th>SCPT_TT95397</th>\n",
       "      <td>1.746216e+06</td>\n",
       "      <td>5.969665e+06</td>\n",
       "      <td>124.950446</td>\n",
       "      <td>137.485455</td>\n",
       "      <td>23</td>\n",
       "      <td>0.06</td>\n",
       "      <td>23.38</td>\n",
       "      <td>174.630677</td>\n",
       "      <td>-36.407065</td>\n",
       "    </tr>\n",
       "    <tr>\n",
       "      <th>SCPT_TT95534</th>\n",
       "      <td>1.884410e+06</td>\n",
       "      <td>5.824483e+06</td>\n",
       "      <td>103.600474</td>\n",
       "      <td>111.363323</td>\n",
       "      <td>24</td>\n",
       "      <td>3.91</td>\n",
       "      <td>20.76</td>\n",
       "      <td>176.225116</td>\n",
       "      <td>-37.682789</td>\n",
       "    </tr>\n",
       "    <tr>\n",
       "      <th>SCPT_TT95535</th>\n",
       "      <td>1.884402e+06</td>\n",
       "      <td>5.824439e+06</td>\n",
       "      <td>146.971739</td>\n",
       "      <td>157.440407</td>\n",
       "      <td>25</td>\n",
       "      <td>1.97</td>\n",
       "      <td>23.56</td>\n",
       "      <td>176.225039</td>\n",
       "      <td>-37.683193</td>\n",
       "    </tr>\n",
       "  </tbody>\n",
       "</table>\n",
       "<p>7626 rows × 9 columns</p>\n",
       "</div>"
      ],
      "text/plain": [
       "                    NZTM_X        NZTM_Y         Vsz        Vs30  Zmax  Zmin  \\\n",
       "CPT_1         1.576467e+06  5.181262e+06  210.512137  227.536512    25  0.04   \n",
       "CPT_10001     1.570257e+06  5.178666e+06  147.944481  164.045386    23  0.00   \n",
       "CPT_10003     1.571621e+06  5.179830e+06  179.581477  187.277570    27  0.00   \n",
       "CPT_10004     1.571595e+06  5.179847e+06  183.241755  191.155068    27  0.00   \n",
       "CPT_10005     1.570682e+06  5.180753e+06  152.126549  180.488281    20  0.40   \n",
       "...                    ...           ...         ...         ...   ...   ...   \n",
       "SCPT_TT95352  1.746063e+06  5.969807e+06  127.014493  143.107875    22  0.01   \n",
       "SCPT_TT95395  1.746175e+06  5.969737e+06  122.926809  138.253939    22  0.01   \n",
       "SCPT_TT95397  1.746216e+06  5.969665e+06  124.950446  137.485455    23  0.06   \n",
       "SCPT_TT95534  1.884410e+06  5.824483e+06  103.600474  111.363323    24  3.91   \n",
       "SCPT_TT95535  1.884402e+06  5.824439e+06  146.971739  157.440407    25  1.97   \n",
       "\n",
       "              Zspan         lon        lat  \n",
       "CPT_1         25.92  172.708811 -43.521206  \n",
       "CPT_10001     23.34  172.631824 -43.544364  \n",
       "CPT_10003     27.30  172.648774 -43.533931  \n",
       "CPT_10004     27.24  172.648453 -43.533778  \n",
       "CPT_10005     19.66  172.637194 -43.525588  \n",
       "...             ...         ...        ...  \n",
       "SCPT_TT95352  22.10  174.628946 -36.405812  \n",
       "SCPT_TT95395  22.60  174.630211 -36.406429  \n",
       "SCPT_TT95397  23.38  174.630677 -36.407065  \n",
       "SCPT_TT95534  20.76  176.225116 -37.682789  \n",
       "SCPT_TT95535  23.56  176.225039 -37.683193  \n",
       "\n",
       "[7626 rows x 9 columns]"
      ]
     },
     "execution_count": 47,
     "metadata": {},
     "output_type": "execute_result"
    }
   ],
   "source": [
    "result_df"
   ]
  },
  {
   "cell_type": "code",
   "execution_count": null,
   "id": "5c17c12f-8537-4bb7-82f9-ecdbb2e3b14e",
   "metadata": {},
   "outputs": [],
   "source": []
  },
  {
   "cell_type": "code",
   "execution_count": null,
   "id": "endangered-tomato",
   "metadata": {},
   "outputs": [],
   "source": []
  }
 ],
 "metadata": {
  "kernelspec": {
   "display_name": "Python 3 (ipykernel)",
   "language": "python",
   "name": "python3"
  },
  "language_info": {
   "codemirror_mode": {
    "name": "ipython",
    "version": 3
   },
   "file_extension": ".py",
   "mimetype": "text/x-python",
   "name": "python",
   "nbconvert_exporter": "python",
   "pygments_lexer": "ipython3",
   "version": "3.7.10"
  }
 },
 "nbformat": 4,
 "nbformat_minor": 5
}
